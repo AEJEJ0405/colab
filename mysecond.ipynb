{
  "nbformat": 4,
  "nbformat_minor": 0,
  "metadata": {
    "colab": {
      "name": "mysecond.ipynb",
      "provenance": [],
      "collapsed_sections": [],
      "authorship_tag": "ABX9TyNt5nz3cY86En053YuTcqj4",
      "include_colab_link": true
    },
    "kernelspec": {
      "name": "python3",
      "display_name": "Python 3"
    },
    "language_info": {
      "name": "python"
    }
  },
  "cells": [
    {
      "cell_type": "markdown",
      "metadata": {
        "id": "view-in-github",
        "colab_type": "text"
      },
      "source": [
        "<a href=\"https://colab.research.google.com/github/AEJEJ0405/colab/blob/main/mysecond.ipynb\" target=\"_parent\"><img src=\"https://colab.research.google.com/assets/colab-badge.svg\" alt=\"Open In Colab\"/></a>"
      ]
    },
    {
      "cell_type": "code",
      "execution_count": 4,
      "metadata": {
        "colab": {
          "base_uri": "https://localhost:8080/"
        },
        "id": "cCcypRFcQ4Ub",
        "outputId": "43aa1b62-0b44-41c9-f1dd-78793375829c"
      },
      "outputs": [
        {
          "output_type": "stream",
          "name": "stdout",
          "text": [
            "두번째 파일입니다.\n",
            "난생처음 파이썬을 공부하지만, 점점 익숙해지는 것 같아요. :\n"
          ]
        }
      ],
      "source": [
        "print(\"두번째 파일입니다.\")\n",
        "print(\"난생처음 파이썬을 공부하지만, 점점 익숙해지는 것 같아요. :\")"
      ]
    },
    {
      "cell_type": "markdown",
      "source": [
        "print(\"난생처음 파이썬을 공부하지만, 점점 익숙해지는 것 같아요. :)"
      ],
      "metadata": {
        "id": "TdcHxlURQ8E7"
      }
    }
  ]
}