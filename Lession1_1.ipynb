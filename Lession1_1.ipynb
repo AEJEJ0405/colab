{
  "nbformat": 4,
  "nbformat_minor": 0,
  "metadata": {
    "colab": {
      "name": "Lession1-1.ipynb",
      "provenance": [],
      "authorship_tag": "ABX9TyO7E978+BoyMTctRiIenk40",
      "include_colab_link": true
    },
    "kernelspec": {
      "name": "python3",
      "display_name": "Python 3"
    },
    "language_info": {
      "name": "python"
    }
  },
  "cells": [
    {
      "cell_type": "markdown",
      "metadata": {
        "id": "view-in-github",
        "colab_type": "text"
      },
      "source": [
        "<a href=\"https://colab.research.google.com/github/AEJEJ0405/colab/blob/main/Lession1_1.ipynb\" target=\"_parent\"><img src=\"https://colab.research.google.com/assets/colab-badge.svg\" alt=\"Open In Colab\"/></a>"
      ]
    },
    {
      "cell_type": "markdown",
      "source": [
        "# 파이썬 시작하기\n",
        "  \n",
        "*   프로그래밍 언어?\n",
        " *   컴퓨터와 스마트폰에 들어 있는 많은 소프트웨어\n",
        "  유튜브, 메시지, 전화, 카카오톡 등\n",
        " *   프로그램, 소프트웨어(Software), 애플리케이션(Appllcation), 앱(App), 응용 프로그램 모두 동일한 용어입니다.\n",
        "\n",
        "* 프로그래밍(Programming)\n",
        "  * 사람이 이해하는 말을 언어라고 부르듯이 컴퓨터가 이해하는 언어를 의미\n",
        "* 프로그래밍 언어(Programming language)\n",
        "  * 사람이 이해하는 말을 언어라고 부르듯이 컴퓨터가 이해하는 언어를 의미\n",
        "* 프로그래머(Programmer)\n",
        "  * 프로그래밍 언어를 사용하여 소프트웨어나 앱을 만드는 직업을 가진 사람을 의미\n",
        "* 컴파일러(Compiler) 언어\n",
        "  * 컴파일(Compile) : 소스 코드를 기계어로 번역하는 과정\n",
        "  * 소스 코드를 실행 가능한 기계어로 일괄 번역한 후에, 번역이 완료되 파일(*.exe)을 실행하는 언어를 의미함. \n",
        "\n",
        "\n",
        "\n"
      ],
      "metadata": {
        "id": "3LbTWLuoFFLB"
      }
    },
    {
      "cell_type": "markdown",
      "source": [
        "예제"
      ],
      "metadata": {
        "id": "PZl5tEohQFoS"
      }
    },
    {
      "cell_type": "code",
      "source": [
        "print(\"난생처음 파이썬\")\n",
        "print(\"프로그래밍을 합니다\")\n",
        "print(\"이제 저도 파이썬 프로그래머입니다 ^^\")"
      ],
      "metadata": {
        "colab": {
          "base_uri": "https://localhost:8080/"
        },
        "id": "LcDpgjaOQITs",
        "outputId": "1dafa5cc-1c3c-46c6-e8eb-da5ca15e8e23"
      },
      "execution_count": 3,
      "outputs": [
        {
          "output_type": "stream",
          "name": "stdout",
          "text": [
            "난생처음 파이썬\n",
            "프로그래밍을 합니다\n",
            "이제 저도 파이썬 프로그래머입니다 ^^\n"
          ]
        }
      ]
    },
    {
      "cell_type": "code",
      "source": [
        "print(100+300)"
      ],
      "metadata": {
        "colab": {
          "base_uri": "https://localhost:8080/"
        },
        "id": "6D2VkpsdP-6N",
        "outputId": "45590680-81c5-4510-8eaa-715818303fc4"
      },
      "execution_count": 2,
      "outputs": [
        {
          "output_type": "stream",
          "name": "stdout",
          "text": [
            "400\n"
          ]
        }
      ]
    }
  ]
}