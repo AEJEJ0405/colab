{
  "nbformat": 4,
  "nbformat_minor": 0,
  "metadata": {
    "colab": {
      "name": "3103-권성현(논술형).ipynb",
      "provenance": [],
      "authorship_tag": "ABX9TyPeeD2iUXArWmgq47fBXViL",
      "include_colab_link": true
    },
    "kernelspec": {
      "name": "python3",
      "display_name": "Python 3"
    },
    "language_info": {
      "name": "python"
    }
  },
  "cells": [
    {
      "cell_type": "markdown",
      "metadata": {
        "id": "view-in-github",
        "colab_type": "text"
      },
      "source": [
        "<a href=\"https://colab.research.google.com/github/AEJEJ0405/colab/blob/main/3103_%EA%B6%8C%EC%84%B1%ED%98%84(%EB%85%BC%EC%88%A0%ED%98%95).ipynb\" target=\"_parent\"><img src=\"https://colab.research.google.com/assets/colab-badge.svg\" alt=\"Open In Colab\"/></a>"
      ]
    },
    {
      "cell_type": "markdown",
      "source": [
        "2022학년도 응용프로그래밍 개발 - 논술형\n",
        "컴퓨터과 3학년 1반 3번 권성현"
      ],
      "metadata": {
        "id": "SxYpncLU63yi"
      }
    },
    {
      "cell_type": "code",
      "source": [
        "num1 = float(input(\"첫 번째 숫자입력 ==>\"))\n",
        "num2 = float(input(\"두 번째 숫자입력 ==>\"))\n",
        "result1 = num1 + float(num2)\n",
        "result2 = num1 - float(num2)\n",
        "result3 = num1 * float(num2)\n",
        "result4 = num1 / float(num2)\n",
        "result5 = num1 // float(num2)\n",
        "result6 = num1 % float(num2)\n",
        "result7 = num1 ** float(num2)\n",
        "print(num1, \"+\", num2, \"=\", result1)\n",
        "print(num1, \"-\", num2, \"=\", result2)\n",
        "print(num1, \"*\", num2, \"=\", result3)\n",
        "print(num1, \"/\", num2, \"=\", result4)\n",
        "print(num1, \"//\", num2, \"=\", result5)\n",
        "print(num1, \"%\", num2, \"=\", result6)\n",
        "print(num1, \"**\", num2, \"=\", result7)"
      ],
      "metadata": {
        "colab": {
          "base_uri": "https://localhost:8080/"
        },
        "id": "EWrnC58i-lD3",
        "outputId": "94502d23-a05a-48fc-b6b0-d4219c893b24"
      },
      "execution_count": 14,
      "outputs": [
        {
          "output_type": "stream",
          "name": "stdout",
          "text": [
            "첫 번째 숫자입력 ==>11.4\n",
            "두 번째 숫자입력 ==>10\n",
            "11.4 + 10.0 = 21.4\n",
            "11.4 - 10.0 = 1.4000000000000004\n",
            "11.4 * 10.0 = 114.0\n",
            "11.4 / 10.0 = 1.1400000000000001\n",
            "11.4 // 10.0 = 1.0\n",
            "11.4 % 10.0 = 1.4000000000000004\n",
            "11.4 ** 10.0 = 37072213141.18568\n"
          ]
        }
      ]
    }
  ]
}