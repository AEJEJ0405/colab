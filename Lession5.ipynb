{
  "nbformat": 4,
  "nbformat_minor": 0,
  "metadata": {
    "colab": {
      "name": "Lession5.ipynb",
      "provenance": [],
      "authorship_tag": "ABX9TyOWFbibZh7kLTJRvaenvv/v",
      "include_colab_link": true
    },
    "kernelspec": {
      "name": "python3",
      "display_name": "Python 3"
    },
    "language_info": {
      "name": "python"
    }
  },
  "cells": [
    {
      "cell_type": "markdown",
      "metadata": {
        "id": "view-in-github",
        "colab_type": "text"
      },
      "source": [
        "<a href=\"https://colab.research.google.com/github/AEJEJ0405/colab/blob/main/Lession5.ipynb\" target=\"_parent\"><img src=\"https://colab.research.google.com/assets/colab-badge.svg\" alt=\"Open In Colab\"/></a>"
      ]
    },
    {
      "cell_type": "code",
      "execution_count": 2,
      "metadata": {
        "id": "B8QMWC2-QDKe",
        "colab": {
          "base_uri": "https://localhost:8080/"
        },
        "outputId": "c1f2b10b-f571-4796-f256-9144fc8879bd"
      },
      "outputs": [
        {
          "output_type": "stream",
          "name": "stdout",
          "text": [
            "100보다 작습니다.\n"
          ]
        }
      ],
      "source": [
        "num = 99\n",
        "if num < 100 :\n",
        "    print(\"100보다 작습니다.\")"
      ]
    },
    {
      "cell_type": "code",
      "source": [
        "num = int(input(\"정수를 입력 : \"))\n",
        "\n",
        "if (num % 2) == 0 :\n",
        "  print(num, \"짝수입니다.\")\n",
        "\n",
        "if (num % 2) == 1 :\n",
        "  print(num, \"홀수입니다.\")\n",
        "\n",
        "\n"
      ],
      "metadata": {
        "colab": {
          "base_uri": "https://localhost:8080/"
        },
        "id": "8BzGD_qXQ9iy",
        "outputId": "56595e9e-777a-4086-e237-a1de07a640b3"
      },
      "execution_count": null,
      "outputs": [
        {
          "output_type": "stream",
          "name": "stdout",
          "text": [
            "정수를 입력 : 12\n",
            "12 짝수입니다.\n"
          ]
        }
      ]
    },
    {
      "cell_type": "markdown",
      "source": [
        "5장 예제 IF문"
      ],
      "metadata": {
        "id": "NgaRhC_2QJYk"
      }
    },
    {
      "cell_type": "code",
      "source": [
        "num = int(input(\"정수를 입력 : \"))\n",
        "if (num % 2) == 0 :\n",
        "  print(num, \"짝수입니다.\")\n",
        "else :\n",
        "  print(num, \"홀수입니다.\")\n"
      ],
      "metadata": {
        "colab": {
          "base_uri": "https://localhost:8080/"
        },
        "id": "RY3AEHJbSTd-",
        "outputId": "94cb0825-a4e5-495a-9339-dce9deee0dc2"
      },
      "execution_count": 1,
      "outputs": [
        {
          "output_type": "stream",
          "name": "stdout",
          "text": [
            "정수를 입력 :213\n",
            "213 홀수입니다.\n"
          ]
        }
      ]
    },
    {
      "cell_type": "code",
      "source": [
        "import random\n",
        "com_number = random.randint(1,45)\n",
        "print(\"** 컴퓨터가 생각한 숫자를 맞추는 게임 **\")\n",
        "print(\"숫자는 1부터 45까지입니다.\")\n",
        "user_number = \"\"\n",
        "while com_number != user_number :\n",
        "  user_number = int(input(\"숫자를 입력 : \"))\n",
        "  if com_number > user_number :\n",
        "    print(\"입력한 숫자가 작습니다.\")\n",
        "  elif com_number < user_number :\n",
        "    print(\"입력한 숫자가 더 큽니다.\")\n",
        "  else :\n",
        "    print(\" 정답 ^^ \")"
      ],
      "metadata": {
        "colab": {
          "base_uri": "https://localhost:8080/",
          "height": 731
        },
        "id": "K8cl8VpKVeZP",
        "outputId": "41691535-786d-4f60-e9fa-fc0b4ae0d3c1"
      },
      "execution_count": 8,
      "outputs": [
        {
          "output_type": "stream",
          "name": "stdout",
          "text": [
            "** 컴퓨터가 생각한 숫자를 맞추는 게임 **\n",
            "숫자는 1부터 45까지입니다.\n",
            "숫자를 입력 : 21\n",
            "입력한 숫자가 더 큽니다.\n",
            "숫자를 입력 : 27\n",
            "입력한 숫자가 더 큽니다.\n",
            "숫자를 입력 : 35\n",
            "입력한 숫자가 더 큽니다.\n",
            "숫자를 입력 : 42\n",
            "입력한 숫자가 더 큽니다.\n",
            "숫자를 입력 : 55\n",
            "입력한 숫자가 더 큽니다.\n",
            "숫자를 입력 : 43\n",
            "입력한 숫자가 더 큽니다.\n",
            "숫자를 입력 : 44\n",
            "입력한 숫자가 더 큽니다.\n",
            "숫자를 입력 : 45\n",
            "입력한 숫자가 더 큽니다.\n"
          ]
        },
        {
          "output_type": "error",
          "ename": "KeyboardInterrupt",
          "evalue": "ignored",
          "traceback": [
            "\u001b[0;31m---------------------------------------------------------------------------\u001b[0m",
            "\u001b[0;31mKeyboardInterrupt\u001b[0m                         Traceback (most recent call last)",
            "\u001b[0;32m<ipython-input-8-e09d032a4699>\u001b[0m in \u001b[0;36m<module>\u001b[0;34m\u001b[0m\n\u001b[1;32m      5\u001b[0m \u001b[0muser_number\u001b[0m\u001b[0;34m=\u001b[0m\u001b[0;34m\"\"\u001b[0m\u001b[0;34m\u001b[0m\u001b[0;34m\u001b[0m\u001b[0m\n\u001b[1;32m      6\u001b[0m \u001b[0;32mwhile\u001b[0m \u001b[0mcom_number\u001b[0m \u001b[0;34m!=\u001b[0m \u001b[0muser_number\u001b[0m \u001b[0;34m:\u001b[0m\u001b[0;34m\u001b[0m\u001b[0;34m\u001b[0m\u001b[0m\n\u001b[0;32m----> 7\u001b[0;31m   \u001b[0muser_number\u001b[0m \u001b[0;34m=\u001b[0m \u001b[0mint\u001b[0m\u001b[0;34m(\u001b[0m\u001b[0minput\u001b[0m\u001b[0;34m(\u001b[0m\u001b[0;34m\"숫자를 입력 : \"\u001b[0m\u001b[0;34m)\u001b[0m\u001b[0;34m)\u001b[0m\u001b[0;34m\u001b[0m\u001b[0;34m\u001b[0m\u001b[0m\n\u001b[0m\u001b[1;32m      8\u001b[0m   \u001b[0;32mif\u001b[0m \u001b[0mcom_number\u001b[0m \u001b[0;34m>\u001b[0m \u001b[0muser_number\u001b[0m \u001b[0;34m:\u001b[0m\u001b[0;34m\u001b[0m\u001b[0;34m\u001b[0m\u001b[0m\n\u001b[1;32m      9\u001b[0m     \u001b[0mprint\u001b[0m\u001b[0;34m(\u001b[0m\u001b[0;34m\"입력한 숫자가 작습니다.\"\u001b[0m\u001b[0;34m)\u001b[0m\u001b[0;34m\u001b[0m\u001b[0;34m\u001b[0m\u001b[0m\n",
            "\u001b[0;32m/usr/local/lib/python3.7/dist-packages/ipykernel/kernelbase.py\u001b[0m in \u001b[0;36mraw_input\u001b[0;34m(self, prompt)\u001b[0m\n\u001b[1;32m    861\u001b[0m             \u001b[0mself\u001b[0m\u001b[0;34m.\u001b[0m\u001b[0m_parent_ident\u001b[0m\u001b[0;34m,\u001b[0m\u001b[0;34m\u001b[0m\u001b[0;34m\u001b[0m\u001b[0m\n\u001b[1;32m    862\u001b[0m             \u001b[0mself\u001b[0m\u001b[0;34m.\u001b[0m\u001b[0m_parent_header\u001b[0m\u001b[0;34m,\u001b[0m\u001b[0;34m\u001b[0m\u001b[0;34m\u001b[0m\u001b[0m\n\u001b[0;32m--> 863\u001b[0;31m             \u001b[0mpassword\u001b[0m\u001b[0;34m=\u001b[0m\u001b[0;32mFalse\u001b[0m\u001b[0;34m,\u001b[0m\u001b[0;34m\u001b[0m\u001b[0;34m\u001b[0m\u001b[0m\n\u001b[0m\u001b[1;32m    864\u001b[0m         )\n\u001b[1;32m    865\u001b[0m \u001b[0;34m\u001b[0m\u001b[0m\n",
            "\u001b[0;32m/usr/local/lib/python3.7/dist-packages/ipykernel/kernelbase.py\u001b[0m in \u001b[0;36m_input_request\u001b[0;34m(self, prompt, ident, parent, password)\u001b[0m\n\u001b[1;32m    902\u001b[0m             \u001b[0;32mexcept\u001b[0m \u001b[0mKeyboardInterrupt\u001b[0m\u001b[0;34m:\u001b[0m\u001b[0;34m\u001b[0m\u001b[0;34m\u001b[0m\u001b[0m\n\u001b[1;32m    903\u001b[0m                 \u001b[0;31m# re-raise KeyboardInterrupt, to truncate traceback\u001b[0m\u001b[0;34m\u001b[0m\u001b[0;34m\u001b[0m\u001b[0;34m\u001b[0m\u001b[0m\n\u001b[0;32m--> 904\u001b[0;31m                 \u001b[0;32mraise\u001b[0m \u001b[0mKeyboardInterrupt\u001b[0m\u001b[0;34m(\u001b[0m\u001b[0;34m\"Interrupted by user\"\u001b[0m\u001b[0;34m)\u001b[0m \u001b[0;32mfrom\u001b[0m \u001b[0;32mNone\u001b[0m\u001b[0;34m\u001b[0m\u001b[0;34m\u001b[0m\u001b[0m\n\u001b[0m\u001b[1;32m    905\u001b[0m             \u001b[0;32mexcept\u001b[0m \u001b[0mException\u001b[0m \u001b[0;32mas\u001b[0m \u001b[0me\u001b[0m\u001b[0;34m:\u001b[0m\u001b[0;34m\u001b[0m\u001b[0;34m\u001b[0m\u001b[0m\n\u001b[1;32m    906\u001b[0m                 \u001b[0mself\u001b[0m\u001b[0;34m.\u001b[0m\u001b[0mlog\u001b[0m\u001b[0;34m.\u001b[0m\u001b[0mwarning\u001b[0m\u001b[0;34m(\u001b[0m\u001b[0;34m\"Invalid Message:\"\u001b[0m\u001b[0;34m,\u001b[0m \u001b[0mexc_info\u001b[0m\u001b[0;34m=\u001b[0m\u001b[0;32mTrue\u001b[0m\u001b[0;34m)\u001b[0m\u001b[0;34m\u001b[0m\u001b[0;34m\u001b[0m\u001b[0m\n",
            "\u001b[0;31mKeyboardInterrupt\u001b[0m: Interrupted by user"
          ]
        }
      ]
    },
    {
      "cell_type": "markdown",
      "source": [
        "가위바위보 게임"
      ],
      "metadata": {
        "id": "Az4q1F7kYEZB"
      }
    },
    {
      "cell_type": "code",
      "source": [
        "import random\n",
        "print(\"** 가위 바위 보 게임 **\")\n",
        "count = 7\n",
        "while count > 0 :\n",
        "  com_player = random.choice([\"가위\", \"바위\", \"보\"])\n",
        "  user_player = input(\"가위/바위/보 중 하나를 입력하세요 ==> \")\n",
        "  if (com_player == user_player) :\n",
        "    print(\"비겼다.\")\n",
        "  elif ((com_player == \"가위\") and (user_player == \"바위\")) or \\\n",
        "    ((com_player == \"바위\") and (user_player == \"보\")) or \\\n",
        "    ((com_player == \"보\") and (user_player == \"가위\")) :\n",
        "    print(\"이겼다.\")\n",
        "  else :\n",
        "    print(\"졌다.\")\n",
        "  count = count - 1"
      ],
      "metadata": {
        "colab": {
          "base_uri": "https://localhost:8080/"
        },
        "id": "vGFrxFddYDVH",
        "outputId": "0e70ad42-3c22-4e28-f8c2-ba5ff3788eb1"
      },
      "execution_count": null,
      "outputs": [
        {
          "output_type": "stream",
          "name": "stdout",
          "text": [
            "** 가위 바위 보 게임 **\n"
          ]
        }
      ]
    }
  ]
}