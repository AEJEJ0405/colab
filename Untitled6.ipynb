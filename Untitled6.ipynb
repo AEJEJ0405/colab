{
  "nbformat": 4,
  "nbformat_minor": 0,
  "metadata": {
    "colab": {
      "provenance": [],
      "authorship_tag": "ABX9TyPeCcBUUuAq9sUa51B4RJv4",
      "include_colab_link": true
    },
    "kernelspec": {
      "name": "python3",
      "display_name": "Python 3"
    },
    "language_info": {
      "name": "python"
    }
  },
  "cells": [
    {
      "cell_type": "markdown",
      "metadata": {
        "id": "view-in-github",
        "colab_type": "text"
      },
      "source": [
        "<a href=\"https://colab.research.google.com/github/AEJEJ0405/colab/blob/main/Untitled6.ipynb\" target=\"_parent\"><img src=\"https://colab.research.google.com/assets/colab-badge.svg\" alt=\"Open In Colab\"/></a>"
      ]
    },
    {
      "cell_type": "code",
      "execution_count": 3,
      "metadata": {
        "colab": {
          "base_uri": "https://localhost:8080/"
        },
        "id": "jmCWGi5yGtvD",
        "outputId": "ee676149-ed10-453c-d40a-efda5f671504"
      },
      "outputs": [
        {
          "output_type": "stream",
          "name": "stdout",
          "text": [
            "*** 물품과 재고량 입렵***\n",
            "입력 물품 : 김담비\n",
            "재고량 : 1\n",
            "{'김담비': 1}\n"
          ]
        }
      ],
      "source": [
        "store = {}\n",
        "print(\"*** 물품과 재고량 입렵***\")\n",
        "article = input(\"입력 물품 : \")\n",
        "store[article] = int(input(\"재고량 : \"))\n",
        "print(store)"
      ]
    },
    {
      "cell_type": "code",
      "source": [
        "store = {}\n",
        "print(\"*** 물품과 재고량 입력 ***\")\n",
        "while True :\n",
        "  item = input(\"입력 물품 ==>\")\n",
        "  if item == \"z\" :\n",
        "    break\n",
        "    count = int(input(\"재고량 ==>\"))\n",
        "    store[item] = count\n",
        "\n",
        "print(\"*** 물품의 재고량 확인 ***\")\n",
        "while True :\n",
        "  item = input(\"찾을 물품 ==>\")\n",
        "  if item ==\"\":\n",
        "    break\n",
        "  if item in store :\n",
        "    print(store[item], \" 개 남았어요\")\n",
        "  else :\n",
        "    print(\" 그 물품은 없어요.\")"
      ],
      "metadata": {
        "id": "CoVmyJTJLPzy"
      },
      "execution_count": null,
      "outputs": []
    },
    {
      "cell_type": "code",
      "source": [
        "from textwrap import shorten\n",
        "#!pip3 install ColabTurtle\n",
        "import ColabTurtle.Turtle as turtle\n",
        "import random\n",
        "myT = []\n",
        "shapeList = [\"circle\", \"turtle\"]\n",
        "colorList = [\"red\", \"blue\", \"yellow\", \"black\", \"green\"]\n",
        "turtle.initializeTurtle()\n",
        "for i in range(0,100) :\n",
        "  color = random.choice(colorList)\n",
        "  shap = random.choice(shapeList)\n",
        "  x = random.randint(0, 750)\n",
        "  y = random.randint(0, 550)\n",
        "  myturtle = turtle.turtle_shape = shap\n",
        "  tup = (myturtle, color, x, y)\n",
        "  myT.append(tup)\n",
        "\n",
        "for t in myT:\n",
        "  turtle.color(t[1])\n",
        "  turtle.goto(t[2], t[3])\n",
        "  turtle.home()\n"
      ],
      "metadata": {
        "colab": {
          "base_uri": "https://localhost:8080/",
          "height": 520
        },
        "id": "MLsouQkCNN5R",
        "outputId": "0f474c8d-b7b7-48e0-c987-e4b1ccc05b60"
      },
      "execution_count": 13,
      "outputs": [
        {
          "output_type": "display_data",
          "data": {
            "text/plain": [
              "<IPython.core.display.HTML object>"
            ],
            "text/html": [
              "\n",
              "      <svg width=\"800\" height=\"500\">\n",
              "        <rect width=\"100%\" height=\"100%\" fill=\"black\"/>\n",
              "        <line x1=\"400\" y1=\"250\" x2=\"627\" y2=\"56\" stroke-linecap=\"round\" style=\"stroke:green;stroke-width:4\"/><line x1=\"627\" y1=\"56\" x2=\"400\" y2=\"250\" stroke-linecap=\"round\" style=\"stroke:green;stroke-width:4\"/><line x1=\"400\" y1=\"250\" x2=\"624\" y2=\"88\" stroke-linecap=\"round\" style=\"stroke:green;stroke-width:4\"/><line x1=\"624\" y1=\"88\" x2=\"400\" y2=\"250\" stroke-linecap=\"round\" style=\"stroke:green;stroke-width:4\"/><line x1=\"400\" y1=\"250\" x2=\"363\" y2=\"536\" stroke-linecap=\"round\" style=\"stroke:red;stroke-width:4\"/><line x1=\"363\" y1=\"536\" x2=\"400\" y2=\"250\" stroke-linecap=\"round\" style=\"stroke:red;stroke-width:4\"/><line x1=\"400\" y1=\"250\" x2=\"649\" y2=\"290\" stroke-linecap=\"round\" style=\"stroke:red;stroke-width:4\"/><line x1=\"649\" y1=\"290\" x2=\"400\" y2=\"250\" stroke-linecap=\"round\" style=\"stroke:red;stroke-width:4\"/><line x1=\"400\" y1=\"250\" x2=\"647\" y2=\"226\" stroke-linecap=\"round\" style=\"stroke:yellow;stroke-width:4\"/><line x1=\"647\" y1=\"226\" x2=\"400\" y2=\"250\" stroke-linecap=\"round\" style=\"stroke:yellow;stroke-width:4\"/><line x1=\"400\" y1=\"250\" x2=\"144\" y2=\"458\" stroke-linecap=\"round\" style=\"stroke:yellow;stroke-width:4\"/><line x1=\"144\" y1=\"458\" x2=\"400\" y2=\"250\" stroke-linecap=\"round\" style=\"stroke:yellow;stroke-width:4\"/><line x1=\"400\" y1=\"250\" x2=\"463\" y2=\"541\" stroke-linecap=\"round\" style=\"stroke:green;stroke-width:4\"/><line x1=\"463\" y1=\"541\" x2=\"400\" y2=\"250\" stroke-linecap=\"round\" style=\"stroke:green;stroke-width:4\"/><line x1=\"400\" y1=\"250\" x2=\"678\" y2=\"58\" stroke-linecap=\"round\" style=\"stroke:blue;stroke-width:4\"/><line x1=\"678\" y1=\"58\" x2=\"400\" y2=\"250\" stroke-linecap=\"round\" style=\"stroke:blue;stroke-width:4\"/><line x1=\"400\" y1=\"250\" x2=\"611\" y2=\"511\" stroke-linecap=\"round\" style=\"stroke:green;stroke-width:4\"/><line x1=\"611\" y1=\"511\" x2=\"400\" y2=\"250\" stroke-linecap=\"round\" style=\"stroke:green;stroke-width:4\"/><line x1=\"400\" y1=\"250\" x2=\"381\" y2=\"365\" stroke-linecap=\"round\" style=\"stroke:yellow;stroke-width:4\"/><line x1=\"381\" y1=\"365\" x2=\"400\" y2=\"250\" stroke-linecap=\"round\" style=\"stroke:yellow;stroke-width:4\"/><line x1=\"400\" y1=\"250\" x2=\"211\" y2=\"382\" stroke-linecap=\"round\" style=\"stroke:blue;stroke-width:4\"/><line x1=\"211\" y1=\"382\" x2=\"400\" y2=\"250\" stroke-linecap=\"round\" style=\"stroke:blue;stroke-width:4\"/><line x1=\"400\" y1=\"250\" x2=\"563\" y2=\"321\" stroke-linecap=\"round\" style=\"stroke:green;stroke-width:4\"/><line x1=\"563\" y1=\"321\" x2=\"400\" y2=\"250\" stroke-linecap=\"round\" style=\"stroke:green;stroke-width:4\"/><line x1=\"400\" y1=\"250\" x2=\"232\" y2=\"269\" stroke-linecap=\"round\" style=\"stroke:blue;stroke-width:4\"/><line x1=\"232\" y1=\"269\" x2=\"400\" y2=\"250\" stroke-linecap=\"round\" style=\"stroke:blue;stroke-width:4\"/><line x1=\"400\" y1=\"250\" x2=\"311\" y2=\"411\" stroke-linecap=\"round\" style=\"stroke:yellow;stroke-width:4\"/><line x1=\"311\" y1=\"411\" x2=\"400\" y2=\"250\" stroke-linecap=\"round\" style=\"stroke:yellow;stroke-width:4\"/><line x1=\"400\" y1=\"250\" x2=\"193\" y2=\"461\" stroke-linecap=\"round\" style=\"stroke:red;stroke-width:4\"/><line x1=\"193\" y1=\"461\" x2=\"400\" y2=\"250\" stroke-linecap=\"round\" style=\"stroke:red;stroke-width:4\"/><line x1=\"400\" y1=\"250\" x2=\"340\" y2=\"3\" stroke-linecap=\"round\" style=\"stroke:red;stroke-width:4\"/><line x1=\"340\" y1=\"3\" x2=\"400\" y2=\"250\" stroke-linecap=\"round\" style=\"stroke:red;stroke-width:4\"/><line x1=\"400\" y1=\"250\" x2=\"409\" y2=\"508\" stroke-linecap=\"round\" style=\"stroke:yellow;stroke-width:4\"/><line x1=\"409\" y1=\"508\" x2=\"400\" y2=\"250\" stroke-linecap=\"round\" style=\"stroke:yellow;stroke-width:4\"/><line x1=\"400\" y1=\"250\" x2=\"526\" y2=\"469\" stroke-linecap=\"round\" style=\"stroke:blue;stroke-width:4\"/><line x1=\"526\" y1=\"469\" x2=\"400\" y2=\"250\" stroke-linecap=\"round\" style=\"stroke:blue;stroke-width:4\"/><line x1=\"400\" y1=\"250\" x2=\"36\" y2=\"350\" stroke-linecap=\"round\" style=\"stroke:blue;stroke-width:4\"/><line x1=\"36\" y1=\"350\" x2=\"400\" y2=\"250\" stroke-linecap=\"round\" style=\"stroke:blue;stroke-width:4\"/><line x1=\"400\" y1=\"250\" x2=\"742\" y2=\"162\" stroke-linecap=\"round\" style=\"stroke:black;stroke-width:4\"/><line x1=\"742\" y1=\"162\" x2=\"400\" y2=\"250\" stroke-linecap=\"round\" style=\"stroke:black;stroke-width:4\"/><line x1=\"400\" y1=\"250\" x2=\"707\" y2=\"438\" stroke-linecap=\"round\" style=\"stroke:black;stroke-width:4\"/><line x1=\"707\" y1=\"438\" x2=\"400\" y2=\"250\" stroke-linecap=\"round\" style=\"stroke:black;stroke-width:4\"/><line x1=\"400\" y1=\"250\" x2=\"599\" y2=\"447\" stroke-linecap=\"round\" style=\"stroke:blue;stroke-width:4\"/><line x1=\"599\" y1=\"447\" x2=\"400\" y2=\"250\" stroke-linecap=\"round\" style=\"stroke:blue;stroke-width:4\"/><line x1=\"400\" y1=\"250\" x2=\"268\" y2=\"363\" stroke-linecap=\"round\" style=\"stroke:red;stroke-width:4\"/><line x1=\"268\" y1=\"363\" x2=\"400\" y2=\"250\" stroke-linecap=\"round\" style=\"stroke:red;stroke-width:4\"/><line x1=\"400\" y1=\"250\" x2=\"16\" y2=\"281\" stroke-linecap=\"round\" style=\"stroke:green;stroke-width:4\"/><line x1=\"16\" y1=\"281\" x2=\"400\" y2=\"250\" stroke-linecap=\"round\" style=\"stroke:green;stroke-width:4\"/><line x1=\"400\" y1=\"250\" x2=\"500\" y2=\"528\" stroke-linecap=\"round\" style=\"stroke:green;stroke-width:4\"/><line x1=\"500\" y1=\"528\" x2=\"400\" y2=\"250\" stroke-linecap=\"round\" style=\"stroke:green;stroke-width:4\"/><line x1=\"400\" y1=\"250\" x2=\"375\" y2=\"54\" stroke-linecap=\"round\" style=\"stroke:black;stroke-width:4\"/><line x1=\"375\" y1=\"54\" x2=\"400\" y2=\"250\" stroke-linecap=\"round\" style=\"stroke:black;stroke-width:4\"/><line x1=\"400\" y1=\"250\" x2=\"632\" y2=\"266\" stroke-linecap=\"round\" style=\"stroke:black;stroke-width:4\"/><line x1=\"632\" y1=\"266\" x2=\"400\" y2=\"250\" stroke-linecap=\"round\" style=\"stroke:black;stroke-width:4\"/><line x1=\"400\" y1=\"250\" x2=\"677\" y2=\"420\" stroke-linecap=\"round\" style=\"stroke:blue;stroke-width:4\"/><line x1=\"677\" y1=\"420\" x2=\"400\" y2=\"250\" stroke-linecap=\"round\" style=\"stroke:blue;stroke-width:4\"/><line x1=\"400\" y1=\"250\" x2=\"334\" y2=\"482\" stroke-linecap=\"round\" style=\"stroke:red;stroke-width:4\"/><line x1=\"334\" y1=\"482\" x2=\"400\" y2=\"250\" stroke-linecap=\"round\" style=\"stroke:red;stroke-width:4\"/><line x1=\"400\" y1=\"250\" x2=\"515\" y2=\"484\" stroke-linecap=\"round\" style=\"stroke:green;stroke-width:4\"/><line x1=\"515\" y1=\"484\" x2=\"400\" y2=\"250\" stroke-linecap=\"round\" style=\"stroke:green;stroke-width:4\"/><line x1=\"400\" y1=\"250\" x2=\"408\" y2=\"434\" stroke-linecap=\"round\" style=\"stroke:black;stroke-width:4\"/><line x1=\"408\" y1=\"434\" x2=\"400\" y2=\"250\" stroke-linecap=\"round\" style=\"stroke:black;stroke-width:4\"/><line x1=\"400\" y1=\"250\" x2=\"432\" y2=\"74\" stroke-linecap=\"round\" style=\"stroke:green;stroke-width:4\"/><line x1=\"432\" y1=\"74\" x2=\"400\" y2=\"250\" stroke-linecap=\"round\" style=\"stroke:green;stroke-width:4\"/><line x1=\"400\" y1=\"250\" x2=\"199\" y2=\"275\" stroke-linecap=\"round\" style=\"stroke:blue;stroke-width:4\"/><line x1=\"199\" y1=\"275\" x2=\"400\" y2=\"250\" stroke-linecap=\"round\" style=\"stroke:blue;stroke-width:4\"/><line x1=\"400\" y1=\"250\" x2=\"693\" y2=\"398\" stroke-linecap=\"round\" style=\"stroke:blue;stroke-width:4\"/><line x1=\"693\" y1=\"398\" x2=\"400\" y2=\"250\" stroke-linecap=\"round\" style=\"stroke:blue;stroke-width:4\"/><line x1=\"400\" y1=\"250\" x2=\"87\" y2=\"354\" stroke-linecap=\"round\" style=\"stroke:green;stroke-width:4\"/><line x1=\"87\" y1=\"354\" x2=\"400\" y2=\"250\" stroke-linecap=\"round\" style=\"stroke:green;stroke-width:4\"/><line x1=\"400\" y1=\"250\" x2=\"10\" y2=\"276\" stroke-linecap=\"round\" style=\"stroke:red;stroke-width:4\"/><line x1=\"10\" y1=\"276\" x2=\"400\" y2=\"250\" stroke-linecap=\"round\" style=\"stroke:red;stroke-width:4\"/><line x1=\"400\" y1=\"250\" x2=\"46\" y2=\"355\" stroke-linecap=\"round\" style=\"stroke:green;stroke-width:4\"/><line x1=\"46\" y1=\"355\" x2=\"400\" y2=\"250\" stroke-linecap=\"round\" style=\"stroke:green;stroke-width:4\"/><line x1=\"400\" y1=\"250\" x2=\"25\" y2=\"297\" stroke-linecap=\"round\" style=\"stroke:yellow;stroke-width:4\"/><line x1=\"25\" y1=\"297\" x2=\"400\" y2=\"250\" stroke-linecap=\"round\" style=\"stroke:yellow;stroke-width:4\"/><line x1=\"400\" y1=\"250\" x2=\"169\" y2=\"444\" stroke-linecap=\"round\" style=\"stroke:red;stroke-width:4\"/><line x1=\"169\" y1=\"444\" x2=\"400\" y2=\"250\" stroke-linecap=\"round\" style=\"stroke:red;stroke-width:4\"/><line x1=\"400\" y1=\"250\" x2=\"534\" y2=\"279\" stroke-linecap=\"round\" style=\"stroke:green;stroke-width:4\"/><line x1=\"534\" y1=\"279\" x2=\"400\" y2=\"250\" stroke-linecap=\"round\" style=\"stroke:green;stroke-width:4\"/><line x1=\"400\" y1=\"250\" x2=\"487\" y2=\"31\" stroke-linecap=\"round\" style=\"stroke:blue;stroke-width:4\"/><line x1=\"487\" y1=\"31\" x2=\"400\" y2=\"250\" stroke-linecap=\"round\" style=\"stroke:blue;stroke-width:4\"/><line x1=\"400\" y1=\"250\" x2=\"135\" y2=\"327\" stroke-linecap=\"round\" style=\"stroke:green;stroke-width:4\"/><line x1=\"135\" y1=\"327\" x2=\"400\" y2=\"250\" stroke-linecap=\"round\" style=\"stroke:green;stroke-width:4\"/><line x1=\"400\" y1=\"250\" x2=\"562\" y2=\"10\" stroke-linecap=\"round\" style=\"stroke:black;stroke-width:4\"/><line x1=\"562\" y1=\"10\" x2=\"400\" y2=\"250\" stroke-linecap=\"round\" style=\"stroke:black;stroke-width:4\"/><line x1=\"400\" y1=\"250\" x2=\"9\" y2=\"391\" stroke-linecap=\"round\" style=\"stroke:black;stroke-width:4\"/><line x1=\"9\" y1=\"391\" x2=\"400\" y2=\"250\" stroke-linecap=\"round\" style=\"stroke:black;stroke-width:4\"/><line x1=\"400\" y1=\"250\" x2=\"118\" y2=\"187\" stroke-linecap=\"round\" style=\"stroke:red;stroke-width:4\"/><line x1=\"118\" y1=\"187\" x2=\"400\" y2=\"250\" stroke-linecap=\"round\" style=\"stroke:red;stroke-width:4\"/><line x1=\"400\" y1=\"250\" x2=\"476\" y2=\"522\" stroke-linecap=\"round\" style=\"stroke:green;stroke-width:4\"/><line x1=\"476\" y1=\"522\" x2=\"400\" y2=\"250\" stroke-linecap=\"round\" style=\"stroke:green;stroke-width:4\"/><line x1=\"400\" y1=\"250\" x2=\"189\" y2=\"259\" stroke-linecap=\"round\" style=\"stroke:yellow;stroke-width:4\"/><line x1=\"189\" y1=\"259\" x2=\"400\" y2=\"250\" stroke-linecap=\"round\" style=\"stroke:yellow;stroke-width:4\"/><line x1=\"400\" y1=\"250\" x2=\"469\" y2=\"445\" stroke-linecap=\"round\" style=\"stroke:yellow;stroke-width:4\"/><line x1=\"469\" y1=\"445\" x2=\"400\" y2=\"250\" stroke-linecap=\"round\" style=\"stroke:yellow;stroke-width:4\"/><line x1=\"400\" y1=\"250\" x2=\"593\" y2=\"267\" stroke-linecap=\"round\" style=\"stroke:yellow;stroke-width:4\"/><line x1=\"593\" y1=\"267\" x2=\"400\" y2=\"250\" stroke-linecap=\"round\" style=\"stroke:yellow;stroke-width:4\"/><line x1=\"400\" y1=\"250\" x2=\"731\" y2=\"360\" stroke-linecap=\"round\" style=\"stroke:yellow;stroke-width:4\"/><line x1=\"731\" y1=\"360\" x2=\"400\" y2=\"250\" stroke-linecap=\"round\" style=\"stroke:yellow;stroke-width:4\"/><line x1=\"400\" y1=\"250\" x2=\"435\" y2=\"316\" stroke-linecap=\"round\" style=\"stroke:black;stroke-width:4\"/><line x1=\"435\" y1=\"316\" x2=\"400\" y2=\"250\" stroke-linecap=\"round\" style=\"stroke:black;stroke-width:4\"/><line x1=\"400\" y1=\"250\" x2=\"708\" y2=\"545\" stroke-linecap=\"round\" style=\"stroke:red;stroke-width:4\"/><line x1=\"708\" y1=\"545\" x2=\"400\" y2=\"250\" stroke-linecap=\"round\" style=\"stroke:red;stroke-width:4\"/><line x1=\"400\" y1=\"250\" x2=\"724\" y2=\"79\" stroke-linecap=\"round\" style=\"stroke:green;stroke-width:4\"/><line x1=\"724\" y1=\"79\" x2=\"400\" y2=\"250\" stroke-linecap=\"round\" style=\"stroke:green;stroke-width:4\"/><line x1=\"400\" y1=\"250\" x2=\"4\" y2=\"544\" stroke-linecap=\"round\" style=\"stroke:black;stroke-width:4\"/><line x1=\"4\" y1=\"544\" x2=\"400\" y2=\"250\" stroke-linecap=\"round\" style=\"stroke:black;stroke-width:4\"/><line x1=\"400\" y1=\"250\" x2=\"94\" y2=\"42\" stroke-linecap=\"round\" style=\"stroke:black;stroke-width:4\"/><line x1=\"94\" y1=\"42\" x2=\"400\" y2=\"250\" stroke-linecap=\"round\" style=\"stroke:black;stroke-width:4\"/><line x1=\"400\" y1=\"250\" x2=\"546\" y2=\"123\" stroke-linecap=\"round\" style=\"stroke:blue;stroke-width:4\"/><line x1=\"546\" y1=\"123\" x2=\"400\" y2=\"250\" stroke-linecap=\"round\" style=\"stroke:blue;stroke-width:4\"/><line x1=\"400\" y1=\"250\" x2=\"106\" y2=\"193\" stroke-linecap=\"round\" style=\"stroke:green;stroke-width:4\"/><line x1=\"106\" y1=\"193\" x2=\"400\" y2=\"250\" stroke-linecap=\"round\" style=\"stroke:green;stroke-width:4\"/><line x1=\"400\" y1=\"250\" x2=\"383\" y2=\"535\" stroke-linecap=\"round\" style=\"stroke:yellow;stroke-width:4\"/><line x1=\"383\" y1=\"535\" x2=\"400\" y2=\"250\" stroke-linecap=\"round\" style=\"stroke:yellow;stroke-width:4\"/><line x1=\"400\" y1=\"250\" x2=\"411\" y2=\"395\" stroke-linecap=\"round\" style=\"stroke:green;stroke-width:4\"/><line x1=\"411\" y1=\"395\" x2=\"400\" y2=\"250\" stroke-linecap=\"round\" style=\"stroke:green;stroke-width:4\"/><line x1=\"400\" y1=\"250\" x2=\"351\" y2=\"502\" stroke-linecap=\"round\" style=\"stroke:red;stroke-width:4\"/><line x1=\"351\" y1=\"502\" x2=\"400\" y2=\"250\" stroke-linecap=\"round\" style=\"stroke:red;stroke-width:4\"/><line x1=\"400\" y1=\"250\" x2=\"553\" y2=\"348\" stroke-linecap=\"round\" style=\"stroke:black;stroke-width:4\"/><line x1=\"553\" y1=\"348\" x2=\"400\" y2=\"250\" stroke-linecap=\"round\" style=\"stroke:black;stroke-width:4\"/><line x1=\"400\" y1=\"250\" x2=\"79\" y2=\"401\" stroke-linecap=\"round\" style=\"stroke:yellow;stroke-width:4\"/><line x1=\"79\" y1=\"401\" x2=\"400\" y2=\"250\" stroke-linecap=\"round\" style=\"stroke:yellow;stroke-width:4\"/><line x1=\"400\" y1=\"250\" x2=\"455\" y2=\"62\" stroke-linecap=\"round\" style=\"stroke:red;stroke-width:4\"/><line x1=\"455\" y1=\"62\" x2=\"400\" y2=\"250\" stroke-linecap=\"round\" style=\"stroke:red;stroke-width:4\"/><line x1=\"400\" y1=\"250\" x2=\"646\" y2=\"265\" stroke-linecap=\"round\" style=\"stroke:black;stroke-width:4\"/><line x1=\"646\" y1=\"265\" x2=\"400\" y2=\"250\" stroke-linecap=\"round\" style=\"stroke:black;stroke-width:4\"/><line x1=\"400\" y1=\"250\" x2=\"58\" y2=\"472\" stroke-linecap=\"round\" style=\"stroke:green;stroke-width:4\"/><line x1=\"58\" y1=\"472\" x2=\"400\" y2=\"250\" stroke-linecap=\"round\" style=\"stroke:green;stroke-width:4\"/><line x1=\"400\" y1=\"250\" x2=\"252\" y2=\"351\" stroke-linecap=\"round\" style=\"stroke:yellow;stroke-width:4\"/><line x1=\"252\" y1=\"351\" x2=\"400\" y2=\"250\" stroke-linecap=\"round\" style=\"stroke:yellow;stroke-width:4\"/><line x1=\"400\" y1=\"250\" x2=\"285\" y2=\"1\" stroke-linecap=\"round\" style=\"stroke:blue;stroke-width:4\"/><line x1=\"285\" y1=\"1\" x2=\"400\" y2=\"250\" stroke-linecap=\"round\" style=\"stroke:blue;stroke-width:4\"/><line x1=\"400\" y1=\"250\" x2=\"463\" y2=\"231\" stroke-linecap=\"round\" style=\"stroke:red;stroke-width:4\"/><line x1=\"463\" y1=\"231\" x2=\"400\" y2=\"250\" stroke-linecap=\"round\" style=\"stroke:red;stroke-width:4\"/><line x1=\"400\" y1=\"250\" x2=\"125\" y2=\"361\" stroke-linecap=\"round\" style=\"stroke:yellow;stroke-width:4\"/><line x1=\"125\" y1=\"361\" x2=\"400\" y2=\"250\" stroke-linecap=\"round\" style=\"stroke:yellow;stroke-width:4\"/><line x1=\"400\" y1=\"250\" x2=\"471\" y2=\"392\" stroke-linecap=\"round\" style=\"stroke:red;stroke-width:4\"/><line x1=\"471\" y1=\"392\" x2=\"400\" y2=\"250\" stroke-linecap=\"round\" style=\"stroke:red;stroke-width:4\"/><line x1=\"400\" y1=\"250\" x2=\"348\" y2=\"244\" stroke-linecap=\"round\" style=\"stroke:red;stroke-width:4\"/><line x1=\"348\" y1=\"244\" x2=\"400\" y2=\"250\" stroke-linecap=\"round\" style=\"stroke:red;stroke-width:4\"/><line x1=\"400\" y1=\"250\" x2=\"713\" y2=\"430\" stroke-linecap=\"round\" style=\"stroke:yellow;stroke-width:4\"/><line x1=\"713\" y1=\"430\" x2=\"400\" y2=\"250\" stroke-linecap=\"round\" style=\"stroke:yellow;stroke-width:4\"/><line x1=\"400\" y1=\"250\" x2=\"462\" y2=\"285\" stroke-linecap=\"round\" style=\"stroke:black;stroke-width:4\"/><line x1=\"462\" y1=\"285\" x2=\"400\" y2=\"250\" stroke-linecap=\"round\" style=\"stroke:black;stroke-width:4\"/><line x1=\"400\" y1=\"250\" x2=\"7\" y2=\"421\" stroke-linecap=\"round\" style=\"stroke:green;stroke-width:4\"/><line x1=\"7\" y1=\"421\" x2=\"400\" y2=\"250\" stroke-linecap=\"round\" style=\"stroke:green;stroke-width:4\"/><line x1=\"400\" y1=\"250\" x2=\"151\" y2=\"407\" stroke-linecap=\"round\" style=\"stroke:red;stroke-width:4\"/><line x1=\"151\" y1=\"407\" x2=\"400\" y2=\"250\" stroke-linecap=\"round\" style=\"stroke:red;stroke-width:4\"/><line x1=\"400\" y1=\"250\" x2=\"318\" y2=\"418\" stroke-linecap=\"round\" style=\"stroke:yellow;stroke-width:4\"/><line x1=\"318\" y1=\"418\" x2=\"400\" y2=\"250\" stroke-linecap=\"round\" style=\"stroke:yellow;stroke-width:4\"/><line x1=\"400\" y1=\"250\" x2=\"132\" y2=\"196\" stroke-linecap=\"round\" style=\"stroke:red;stroke-width:4\"/><line x1=\"132\" y1=\"196\" x2=\"400\" y2=\"250\" stroke-linecap=\"round\" style=\"stroke:red;stroke-width:4\"/><line x1=\"400\" y1=\"250\" x2=\"352\" y2=\"444\" stroke-linecap=\"round\" style=\"stroke:red;stroke-width:4\"/><line x1=\"352\" y1=\"444\" x2=\"400\" y2=\"250\" stroke-linecap=\"round\" style=\"stroke:red;stroke-width:4\"/><line x1=\"400\" y1=\"250\" x2=\"650\" y2=\"8\" stroke-linecap=\"round\" style=\"stroke:black;stroke-width:4\"/><line x1=\"650\" y1=\"8\" x2=\"400\" y2=\"250\" stroke-linecap=\"round\" style=\"stroke:black;stroke-width:4\"/><line x1=\"400\" y1=\"250\" x2=\"317\" y2=\"52\" stroke-linecap=\"round\" style=\"stroke:black;stroke-width:4\"/><line x1=\"317\" y1=\"52\" x2=\"400\" y2=\"250\" stroke-linecap=\"round\" style=\"stroke:black;stroke-width:4\"/><line x1=\"400\" y1=\"250\" x2=\"413\" y2=\"528\" stroke-linecap=\"round\" style=\"stroke:black;stroke-width:4\"/><line x1=\"413\" y1=\"528\" x2=\"400\" y2=\"250\" stroke-linecap=\"round\" style=\"stroke:black;stroke-width:4\"/><line x1=\"400\" y1=\"250\" x2=\"575\" y2=\"429\" stroke-linecap=\"round\" style=\"stroke:black;stroke-width:4\"/><line x1=\"575\" y1=\"429\" x2=\"400\" y2=\"250\" stroke-linecap=\"round\" style=\"stroke:black;stroke-width:4\"/><line x1=\"400\" y1=\"250\" x2=\"312\" y2=\"429\" stroke-linecap=\"round\" style=\"stroke:red;stroke-width:4\"/><line x1=\"312\" y1=\"429\" x2=\"400\" y2=\"250\" stroke-linecap=\"round\" style=\"stroke:red;stroke-width:4\"/><line x1=\"400\" y1=\"250\" x2=\"476\" y2=\"299\" stroke-linecap=\"round\" style=\"stroke:yellow;stroke-width:4\"/><line x1=\"476\" y1=\"299\" x2=\"400\" y2=\"250\" stroke-linecap=\"round\" style=\"stroke:yellow;stroke-width:4\"/><line x1=\"400\" y1=\"250\" x2=\"497\" y2=\"216\" stroke-linecap=\"round\" style=\"stroke:black;stroke-width:4\"/><line x1=\"497\" y1=\"216\" x2=\"400\" y2=\"250\" stroke-linecap=\"round\" style=\"stroke:black;stroke-width:4\"/><line x1=\"400\" y1=\"250\" x2=\"3\" y2=\"463\" stroke-linecap=\"round\" style=\"stroke:red;stroke-width:4\"/><line x1=\"3\" y1=\"463\" x2=\"400\" y2=\"250\" stroke-linecap=\"round\" style=\"stroke:red;stroke-width:4\"/><line x1=\"400\" y1=\"250\" x2=\"88\" y2=\"0\" stroke-linecap=\"round\" style=\"stroke:black;stroke-width:4\"/><line x1=\"88\" y1=\"0\" x2=\"400\" y2=\"250\" stroke-linecap=\"round\" style=\"stroke:black;stroke-width:4\"/><line x1=\"400\" y1=\"250\" x2=\"124\" y2=\"543\" stroke-linecap=\"round\" style=\"stroke:yellow;stroke-width:4\"/><line x1=\"124\" y1=\"543\" x2=\"400\" y2=\"250\" stroke-linecap=\"round\" style=\"stroke:yellow;stroke-width:4\"/><line x1=\"400\" y1=\"250\" x2=\"148\" y2=\"39\" stroke-linecap=\"round\" style=\"stroke:red;stroke-width:4\"/><line x1=\"148\" y1=\"39\" x2=\"400\" y2=\"250\" stroke-linecap=\"round\" style=\"stroke:red;stroke-width:4\"/><line x1=\"400\" y1=\"250\" x2=\"715\" y2=\"377\" stroke-linecap=\"round\" style=\"stroke:red;stroke-width:4\"/><line x1=\"715\" y1=\"377\" x2=\"400\" y2=\"250\" stroke-linecap=\"round\" style=\"stroke:red;stroke-width:4\"/><line x1=\"400\" y1=\"250\" x2=\"587\" y2=\"18\" stroke-linecap=\"round\" style=\"stroke:yellow;stroke-width:4\"/><line x1=\"587\" y1=\"18\" x2=\"400\" y2=\"250\" stroke-linecap=\"round\" style=\"stroke:yellow;stroke-width:4\"/><line x1=\"400\" y1=\"250\" x2=\"659\" y2=\"545\" stroke-linecap=\"round\" style=\"stroke:yellow;stroke-width:4\"/><line x1=\"659\" y1=\"545\" x2=\"400\" y2=\"250\" stroke-linecap=\"round\" style=\"stroke:yellow;stroke-width:4\"/><line x1=\"400\" y1=\"250\" x2=\"455\" y2=\"422\" stroke-linecap=\"round\" style=\"stroke:blue;stroke-width:4\"/><line x1=\"455\" y1=\"422\" x2=\"400\" y2=\"250\" stroke-linecap=\"round\" style=\"stroke:blue;stroke-width:4\"/><line x1=\"400\" y1=\"250\" x2=\"147\" y2=\"386\" stroke-linecap=\"round\" style=\"stroke:blue;stroke-width:4\"/><line x1=\"147\" y1=\"386\" x2=\"400\" y2=\"250\" stroke-linecap=\"round\" style=\"stroke:blue;stroke-width:4\"/><line x1=\"400\" y1=\"250\" x2=\"233\" y2=\"272\" stroke-linecap=\"round\" style=\"stroke:red;stroke-width:4\"/><line x1=\"233\" y1=\"272\" x2=\"400\" y2=\"250\" stroke-linecap=\"round\" style=\"stroke:red;stroke-width:4\"/><line x1=\"400\" y1=\"250\" x2=\"646\" y2=\"200\" stroke-linecap=\"round\" style=\"stroke:yellow;stroke-width:4\"/><line x1=\"646\" y1=\"200\" x2=\"400\" y2=\"250\" stroke-linecap=\"round\" style=\"stroke:yellow;stroke-width:4\"/><line x1=\"400\" y1=\"250\" x2=\"671\" y2=\"387\" stroke-linecap=\"round\" style=\"stroke:black;stroke-width:4\"/><line x1=\"671\" y1=\"387\" x2=\"400\" y2=\"250\" stroke-linecap=\"round\" style=\"stroke:black;stroke-width:4\"/><line x1=\"400\" y1=\"250\" x2=\"231\" y2=\"41\" stroke-linecap=\"round\" style=\"stroke:green;stroke-width:4\"/><line x1=\"231\" y1=\"41\" x2=\"400\" y2=\"250\" stroke-linecap=\"round\" style=\"stroke:green;stroke-width:4\"/><line x1=\"400\" y1=\"250\" x2=\"273\" y2=\"43\" stroke-linecap=\"round\" style=\"stroke:black;stroke-width:4\"/><line x1=\"273\" y1=\"43\" x2=\"400\" y2=\"250\" stroke-linecap=\"round\" style=\"stroke:black;stroke-width:4\"/><line x1=\"400\" y1=\"250\" x2=\"32\" y2=\"324\" stroke-linecap=\"round\" style=\"stroke:green;stroke-width:4\"/><line x1=\"32\" y1=\"324\" x2=\"400\" y2=\"250\" stroke-linecap=\"round\" style=\"stroke:green;stroke-width:4\"/>\n",
              "        \n",
              "      <g visibility=visible transform=\"rotate(180,400,250) translate(400, 250)\">\n",
              "        <circle stroke=\"green\" stroke-width=\"3\" fill=\"transparent\" r=\"12\" cx=\"0\" cy=\"0\"/>\n",
              "        <polygon points=\"0,19 3,16 -3,16\" style=\"fill:green;stroke:green;stroke-width:2\"/>\n",
              "      </g>\n",
              "    \n",
              "      </svg>\n",
              "    "
            ]
          },
          "metadata": {}
        }
      ]
    }
  ]
}